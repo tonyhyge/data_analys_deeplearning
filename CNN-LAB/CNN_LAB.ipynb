{
  "cells": [
    {
      "cell_type": "markdown",
      "metadata": {
        "id": "4yfB1otCGRV6"
      },
      "source": [
        "# Convolutional Neural Network (CNN)\n",
        "\n",
        "## 1. CNN là gì?\n",
        "\n",
        "CNN (Convolutional Neural Network) là một loại mạng nơ-ron nhân tạo giúp máy tính \"nhìn\" và hiểu ảnh, tương tự cách con người nhận diện vật thể trong đời thực. Thay vì xem toàn bộ ảnh một lúc như mạng nơ-ron thông thường (fully connected), CNN chia nhỏ ảnh ra, tìm các đặc trưng như đường thẳng, góc, vòng tròn, rồi ghép lại để đoán xem ảnh đó là gì.\n",
        "\n",
        "**Ví dụ đời thực**: Khi ta nhìn một con mèo, không cần xem hết cả ảnh ngay lập tức. Ta nhận ra tai mèo (hình tam giác), mắt mèo (hình tròn), ria mèo (đường thẳng), rồi kết luận \"Đây là mèo\". CNN cũng làm như vậy bằng cách dùng các \"kính lúp\" nhỏ quét qua ảnh từng phần một.\n",
        "\n",
        "**Ví dụ cụ thể**: Hãy tưởng tượng chúng ta có một ảnh số \"7\". CNN sẽ tìm đường ngang ở trên cùng và đường chéo bên dưới để nhận ra đó là số \"7\".\n",
        "\n",
        "---\n",
        "\n",
        "## 2. Các thành phần chính của CNN\n",
        "\n",
        "### 2.1. Tầng tích chập (Convolution Layer)\n",
        "\n",
        "Đây là bước quan trọng nhất, giống như \"đôi mắt\" của CNN, giúp tìm các đặc trưng nhỏ trong ảnh như cạnh, góc, hoặc đường cong.\n",
        "\n",
        "#### Ý tưởng cơ bản\n",
        "- chúng ta có một ảnh, giả sử kích thước là $5 \\times 5$ pixel.\n",
        "- Dùng một **bộ lọc** (filter/kernel), ví dụ $3 \\times 3$, như một \"kính lúp\" nhỏ để quét qua ảnh.\n",
        "- Kết quả là một **feature map** (bản đồ đặc trưng), cho biết chỗ nào trong ảnh có đặc trưng mà bộ lọc tìm được.\n",
        "\n",
        "#### Công thức tích chập\n",
        "Công thức toán học của tích chập là:\n",
        "\n",
        "$$ S(i, j) = \\sum_{m=0}^{F-1} \\sum_{n=0}^{F-1} I(i+m, j+n) \\cdot K(m, n) $$\n",
        "\n",
        "- $I$: Ảnh đầu vào (input image).\n",
        "- $K$: Bộ lọc (kernel/filter).\n",
        "- $F$: Kích thước bộ lọc (ví dụ $F=3$ nếu là $3 \\times 3$).\n",
        "- $S(i, j)$: Giá trị tại vị trí $(i, j)$ trong feature map.\n",
        "\n",
        "**Giải thích đơn giản**: Lấy từng vùng nhỏ của ảnh (cùng kích thước với bộ lọc), nhân từng số trong vùng với số tương ứng trong bộ lọc, rồi cộng tất cả lại để ra một số mới.\n",
        "\n",
        "#### Ví dụ minh họa với số \"7\"\n",
        "Giả sử ảnh đầu vào $5 \\times 5$ là một phần của số \"7\":\n",
        "\n",
        "$$ I = \\begin{bmatrix} 1 & 1 & 1 & 0 & 0 \\\\ 0 & 0 & 1 & 0 & 0 \\\\ 0 & 0 & 1 & 1 & 0 \\\\ 0 & 0 & 0 & 1 & 0 \\\\ 0 & 0 & 0 & 1 & 1 \\end{bmatrix} $$\n",
        "\n",
        "- Số 1 là nét vẽ của \"7\", số 0 là nền trắng.\n",
        "\n",
        "Bộ lọc $K$ tìm đường ngang, kích thước $3 \\times 3$:\n",
        "\n",
        "$$ K = \\begin{bmatrix} 1 & 1 & 1 \\\\ 0 & 0 & 0 \\\\ -1 & -1 & -1 \\end{bmatrix} $$\n",
        "\n",
        "**Bước 1: Tính tại vị trí $(0, 0)$**:\n",
        "- Lấy vùng $3 \\times 3$ từ góc trên bên trái của ảnh $I$:\n",
        "\n",
        "$$ \\begin{bmatrix} 1 & 1 & 1 \\\\ 0 & 0 & 1 \\\\ 0 & 0 & 1 \\end{bmatrix} $$\n",
        "\n",
        "- Nhân từng phần tử với bộ lọc $K$:\n",
        "\n",
        "$$ \\begin{bmatrix} 1 \\cdot 1 & 1 \\cdot 1 & 1 \\cdot 1 \\\\ 0 \\cdot 0 & 0 \\cdot 0 & 1 \\cdot 0 \\\\ 0 \\cdot -1 & 0 \\cdot -1 & 1 \\cdot -1 \\end{bmatrix} = \\begin{bmatrix} 1 & 1 & 1 \\\\ 0 & 0 & 0 \\\\ 0 & 0 & -1 \\end{bmatrix} $$\n",
        "\n",
        "- Cộng tất cả các giá trị lại:\n",
        "\n",
        "$$ 1 + 1 + 1 + 0 + 0 + 0 + 0 + 0 + (-1) = 2 $$\n",
        "\n",
        "Vậy $S(0, 0) = 2$ (phát hiện đường ngang mạnh).\n",
        "\n",
        "**Bước 2: Tính tại vị trí $(1, 1)$**:\n",
        "- Trượt bộ lọc xuống dưới và sang phải, lấy vùng $3 \\times 3$ mới:\n",
        "\n",
        "$$ \\begin{bmatrix} 0 & 1 & 0 \\\\ 0 & 1 & 1 \\\\ 0 & 1 & 0 \\end{bmatrix} $$\n",
        "\n",
        "- Nhân với bộ lọc $K$:\n",
        "\n",
        "$$ \\begin{bmatrix} 0 \\cdot 1 & 1 \\cdot 1 & 0 \\cdot 1 \\\\ 0 \\cdot 0 & 1 \\cdot 0 & 1 \\cdot 0 \\\\ 0 \\cdot -1 & 1 \\cdot -1 & 0 \\cdot -1 \\end{bmatrix} = \\begin{bmatrix} 0 & 1 & 0 \\\\ 0 & 0 & 0 \\\\ 0 & -1 & 0 \\end{bmatrix} $$\n",
        "\n",
        "- Cộng lại:\n",
        "\n",
        "$$ 0 + 1 + 0 + 0 + 0 + 0 + 0 + (-1) + 0 = 0 $$\n",
        "\n",
        "Vậy $S(1, 1) = 0$ (không có đường ngang rõ ràng ở đây).\n",
        "\n",
        "**Feature map hoàn chỉnh**:\n",
        "- Lặp lại quá trình trên cho toàn bộ ảnh, ta được feature map kích thước $3 \\times 3$ (vì $5-3+1=3$):\n",
        "\n",
        "$$ S = \\begin{bmatrix} 2 & 1 & 0 \\\\ 1 & 0 & 0 \\\\ 0 & 0 & 1 \\end{bmatrix} $$\n",
        "\n",
        "#### Hình minh họa\n",
        "\n",
        "![image.png](attachment:image.png)\n",
        "\n",
        "Kết quả bao gồm:\n",
        "- Ảnh gốc: Số \"7\" đơn giản hóa với nét vẽ (1) và nền trắng (0).\n",
        "- Feature map: Làm nổi bật đường ngang ở trên cùng (giá trị 2), các vùng khác ít rõ hơn (giá trị nhỏ hoặc 0).\n",
        "\n",
        "#### Padding và Stride\n",
        "- **Padding ($P$)**: Thêm số 0 quanh ảnh để giữ kích thước đầu ra. Nếu $P=0$ (như ví dụ trên), feature map nhỏ hơn ảnh gốc.\n",
        "- **Stride ($S$)**: Bước trượt của bộ lọc. Nếu $S=1$ (như ví dụ), bộ lọc trượt từng pixel một; nếu $S=2$, nó nhảy cách 2 pixel.\n",
        "\n",
        "Công thức tính kích thước đầu ra:\n",
        "\n",
        "$$ \\text{Output Height} = \\frac{H - F + 2P}{S} + 1 $$\n",
        "\n",
        "$$ \\text{Output Width} = \\frac{W - F + 2P}{S} + 1 $$\n",
        "\n",
        "- $H$, $W$: Chiều cao và chiều rộng của ảnh gốc.\n",
        "- Ví dụ: Với $H=W=5$, $F=3$, $P=0$, $S=1$, ta có $\\frac{5-3+0}{1}+1 = 3$, đúng với kích thước feature map $3 \\times 3$.\n",
        "\n",
        "---\n",
        "\n",
        "### 2.2. Hàm kích hoạt (ReLU)\n",
        "\n",
        "Sau khi có feature map từ tầng tích chập, ta dùng hàm ReLU để \"lọc\" nó, giữ lại các đặc trưng rõ ràng và loại bỏ những phần không quan trọng.\n",
        "\n",
        "#### Công thức\n",
        "$$ \\text{ReLU}(x) = \\max(0, x) $$\n",
        "\n",
        "**Giải thích đơn giản**:\n",
        "- Nếu số lớn hơn 0, giữ nguyên.\n",
        "- Nếu số nhỏ hơn hoặc bằng 0, biến thành 0.\n",
        "\n",
        "#### Ví dụ\n",
        "Feature map từ số \"7\" ở trên:\n",
        "\n",
        "$$ S = \\begin{bmatrix} 2 & 1 & 0 \\\\ 1 & 0 & 0 \\\\ 0 & 0 & 1 \\end{bmatrix} $$\n",
        "\n",
        "Áp dụng ReLU (không có số âm nên không đổi):\n",
        "\n",
        "$$ \\text{ReLU}(S) = \\begin{bmatrix} 2 & 1 & 0 \\\\ 1 & 0 & 0 \\\\ 0 & 0 & 1 \\end{bmatrix} $$\n",
        "\n",
        "**Ví dụ khác với số âm**:\n",
        "Giả sử feature map có một số giá trị âm:\n",
        "\n",
        "$$ S = \\begin{bmatrix} 2 & -1 & 0 \\\\ 1 & -2 & 0 \\\\ 0 & 0 & 1 \\end{bmatrix} $$\n",
        "\n",
        "Sau khi áp dụng ReLU:\n",
        "\n",
        "$$ \\text{ReLU}(S) = \\begin{bmatrix} 2 & 0 & 0 \\\\ 1 & 0 & 0 \\\\ 0 & 0 & 1 \\end{bmatrix} $$\n",
        "\n",
        "**Ý nghĩa**:\n",
        "- Các giá trị âm (như -1, -2) thường là những vùng không rõ đặc trưng, nên bị loại bỏ.\n",
        "- Các giá trị dương (như 2, 1) là những nét chính (đường ngang, đường chéo), được giữ lại.\n",
        "\n",
        "#### Hình minh họa\n",
        "\n",
        "![image-2.png](attachment:image-2.png)\n",
        "\n",
        " Kết quả bao gồm:\n",
        "- Trước ReLU: Feature map có các giá trị âm (màu tối).\n",
        "- Sau ReLU: Chỉ giữ lại các giá trị dương (màu sáng), làm rõ nét chính.\n",
        "\n",
        "---\n",
        "\n",
        "### 2.3. Tầng Pooling (Pooling Layer)\n",
        "\n",
        "Pooling giống như \"tóm tắt\" feature map, giảm kích thước để tiết kiệm tính toán nhưng vẫn giữ được thông tin quan trọng.\n",
        "\n",
        "#### Loại phổ biến: Max Pooling\n",
        "- Lấy giá trị lớn nhất trong một vùng nhỏ, thường là $2 \\times 2$.\n",
        "\n",
        "#### Công thức\n",
        "$$ P(i, j) = \\max(I(2i:2i+2, 2j:2j+2)) $$\n",
        "\n",
        "**Giải thích đơn giản**: Chia feature map thành các ô $2 \\times 2$, chọn số lớn nhất trong mỗi ô để tạo feature map nhỏ hơn.\n",
        "\n",
        "#### Ví dụ với số \"7\"\n",
        "Giả sử feature map lớn hơn một chút, kích thước $4 \\times 4$:\n",
        "\n",
        "$$ \\begin{bmatrix} 2 & 1 & 0 & 0 \\\\ 1 & 2 & 1 & 0 \\\\ 0 & 1 & 2 & 1 \\\\ 0 & 0 & 1 & 2 \\end{bmatrix} $$\n",
        "\n",
        "Áp dụng Max Pooling với vùng $2 \\times 2$, stride = 2 (các vùng không chồng lấp):\n",
        "- Vùng 1 (góc trên trái): $\\max(2, 1, 1, 2) = 2$\n",
        "- Vùng 2 (góc trên phải): $\\max(0, 0, 1, 0) = 1$\n",
        "- Vùng 3 (góc dưới trái): $\\max(0, 1, 0, 0) = 1$\n",
        "- Vùng 4 (góc dưới phải): $\\max(2, 1, 1, 2) = 2$\n",
        "\n",
        "Kết quả feature map sau pooling:\n",
        "\n",
        "$$ \\begin{bmatrix} 2 & 1 \\\\ 1 & 2 \\end{bmatrix} $$\n",
        "\n",
        "**Ý nghĩa**:\n",
        "- Kích thước giảm từ $4 \\times 4$ xuống $2 \\times 2$.\n",
        "- Giữ lại các giá trị lớn (nét chính), bỏ bớt chi tiết nhỏ.\n",
        "\n",
        "#### Hình minh họa\n",
        "\n",
        "![image-3.png](attachment:image-3.png)\n",
        "\n",
        "Kết quả bao gồm:\n",
        "- Trước pooling: Feature map $4 \\times 4$ với nhiều chi tiết.\n",
        "- Sau pooling: Feature map $2 \\times 2$, chỉ giữ các nét chính.\n",
        "\n",
        "---\n",
        "\n",
        "### 2.4. Tầng Fully Connected (FC Layer)\n",
        "\n",
        "Đây là bước cuối cùng, nơi CNN ghép tất cả đặc trưng lại để đoán xem ảnh là gì.\n",
        "\n",
        "#### Công thức\n",
        "$$ y = Wx + b $$\n",
        "\n",
        "- $x$: Vector từ feature map duỗi ra.\n",
        "- $W$: Ma trận trọng số.\n",
        "- $b$: Bias (độ lệch).\n",
        "\n",
        "**Giải thích đơn giản**: Lấy feature map cuối, \"duỗi\" thành một hàng số, rồi nhân với trọng số để ra kết quả phân loại.\n",
        "\n",
        "#### Ví dụ\n",
        "Feature map sau pooling:\n",
        "\n",
        "$$ \\begin{bmatrix} 2 & 1 \\\\ 1 & 2 \\end{bmatrix} $$\n",
        "\n",
        "Duỗi thành vector $x = [2, 1, 1, 2]$ (4 phần tử).\n",
        "\n",
        "Giả sử ta phân loại 2 lớp (số \"7\" hoặc không phải \"7\"), với:\n",
        "- Ma trận trọng số:\n",
        "\n",
        "$$ W = \\begin{bmatrix} 0.5 & 0.2 & 0.3 & 0.4 \\\\ -0.1 & 0.3 & 0.2 & -0.5 \\end{bmatrix} $$\n",
        "\n",
        "- Bias:\n",
        "\n",
        "$$ b = \\begin{bmatrix} 0.1 \\\\ 0.2 \\end{bmatrix} $$\n",
        "\n",
        "Tính $y$:\n",
        "- $y_0 = (0.5 \\cdot 2 + 0.2 \\cdot 1 + 0.3 \\cdot 1 + 0.4 \\cdot 2) + 0.1 = 1 + 0.2 + 0.3 + 0.8 + 0.1 = 2.4$\n",
        "- $y_1 = (-0.1 \\cdot 2 + 0.3 \\cdot 1 + 0.2 \\cdot 1 + -0.5 \\cdot 2) + 0.2 = -0.2 + 0.3 + 0.2 - 1 + 0.2 = -0.5$\n",
        "\n",
        "Kết quả: $y = [2.4, -0.5]$.\n",
        "- $y_0 = 2.4$ (lớp \"7\") lớn hơn $y_1 = -0.5$ (lớp \"không phải 7\"), nên CNN đoán đây là số \"7\".\n",
        "\n",
        "**Ý nghĩa**: Tầng này giống như \"bộ não\" quyết định, dựa trên các đặc trưng đã tìm được.\n",
        "\n",
        "---\n",
        "\n",
        "## 3. Tổng hợp lại cả quy trình CNN\n",
        "\n",
        "Dưới đây là các bước CNN xử lý ảnh số \"7\":\n",
        "\n",
        "1. **Tích chập**: Tìm đặc trưng như đường ngang, đường chéo → Feature map $S$.\n",
        "2. **ReLU**: Lọc bỏ các nét mờ (giá trị âm) → Feature map rõ hơn.\n",
        "3. **Pooling**: Tóm tắt, giảm kích thước → Feature map nhỏ gọn.\n",
        "4. **Fully Connected**: Ghép các đặc trưng, đoán xem là số \"7\".\n",
        "\n",
        "#### Hình minh họa tổng hợp\n",
        "\n",
        "![image-4.png](attachment:image-4.png)\n",
        "\n",
        "Kết quả bao gồm:\n",
        "- **Ảnh gốc**: Số \"7\" đơn giản hóa.\n",
        "- **Sau tích chập**: Làm nổi bật đường ngang và một phần đường chéo.\n",
        "- **Sau ReLU**: Giữ nguyên vì không có số âm trong ví dụ này.\n",
        "- **Sau Pooling**: Giảm kích thước, giữ nét chính.\n",
        "\n",
        "---\n",
        "\n",
        "## 4. Ứng dụng thực tế\n",
        "\n",
        "CNN không chỉ nhận diện số \"7\" mà còn được dùng trong:\n",
        "- **Nhận diện khuôn mặt**: Facebook dùng CNN để gắn thẻ bạn bè trong ảnh.\n",
        "- **Xe tự lái**: Phát hiện biển báo, người đi bộ qua camera.\n",
        "- **Y khoa**: Phân tích ảnh X-quang để tìm bệnh.\n",
        "\n",
        "**Kết luận**: Từ ví dụ đơn giản với số \"7\", chúng ta có thể đã thấy CNN hoạt động như thế nào. Hãy thử tưởng tượng nó nhận diện số \"3\" (có đường cong) hoặc \"0\" (hình tròn) như thế nào nha :))) !"
      ]
    },
    {
      "cell_type": "markdown",
      "metadata": {
        "id": "C-x5iI6HGRV9"
      },
      "source": [
        "## BÀI TẬP VẬN DỤNG - NHẬN DIỆN CHỮ VIẾT TAY"
      ]
    },
    {
      "cell_type": "code",
      "execution_count": 1,
      "metadata": {
        "id": "QDUjqY3oGRV-",
        "colab": {
          "base_uri": "https://localhost:8080/"
        },
        "outputId": "b021830f-cccf-4e7e-b220-639693995e9a"
      },
      "outputs": [
        {
          "output_type": "stream",
          "name": "stderr",
          "text": [
            "100%|██████████| 9.91M/9.91M [00:00<00:00, 12.6MB/s]\n",
            "100%|██████████| 28.9k/28.9k [00:00<00:00, 345kB/s]\n",
            "100%|██████████| 1.65M/1.65M [00:00<00:00, 3.14MB/s]\n",
            "100%|██████████| 4.54k/4.54k [00:00<00:00, 6.79MB/s]\n"
          ]
        }
      ],
      "source": [
        "import torch\n",
        "import torch.nn as nn\n",
        "import torch.optim as optim\n",
        "import torchvision\n",
        "import torchvision.transforms as transforms\n",
        "import matplotlib.pyplot as plt\n",
        "import numpy as np\n",
        "\n",
        "# 1. Tải dữ liệu MNIST\n",
        "transform = transforms.ToTensor()  # Chuyển ảnh thành tensor\n",
        "train_dataset = torchvision.datasets.MNIST(root='./data', train=True, download=True, transform=transform)\n",
        "test_dataset = torchvision.datasets.MNIST(root='./data', train=False, download=True, transform=transform)\n",
        "\n",
        "train_loader = torch.utils.data.DataLoader(train_dataset, batch_size=64, shuffle=True)\n",
        "test_loader = torch.utils.data.DataLoader(test_dataset, batch_size=64, shuffle=False)\n"
      ]
    },
    {
      "cell_type": "markdown",
      "metadata": {
        "id": "7A4tZUpOGRV-"
      },
      "source": [
        "## XÂY DỰNG MÔ HÌNH CNN CƠ BẢN"
      ]
    },
    {
      "cell_type": "code",
      "execution_count": 16,
      "metadata": {
        "id": "7Aohg8adGRV-"
      },
      "outputs": [],
      "source": [
        "# 2. Định nghĩa mô hình CNN\n",
        "class MNIST_CNN(nn.Module):  # Tạo lớp MNIST_CNN kế thừa từ nn.Module (lớp cơ bản của PyTorch)\n",
        "    def __init__(self):  # Hàm khởi tạo mô hình\n",
        "        super(MNIST_CNN, self).__init__()  # Gọi hàm khởi tạo của lớp cha (nn.Module)\n",
        "        # Tầng tích chập 1: 1 kênh đầu vào (ảnh đen trắng) -> 16 kênh đầu ra, filter 3x3\n",
        "        self.conv1 = nn.Conv2d(1, 16, kernel_size=3, stride=1, padding=0)  # Tích chập giảm kích thước từ 28x28 -> 26x26\n",
        "        # Tầng tích chập 2: 16 kênh đầu vào -> 32 kênh đầu ra, filter 3x3\n",
        "        self.conv2 = nn.Conv2d(16, 32, kernel_size=3, stride=1, padding=0)# Tích chập giảm từ 12x12 -> 10x10 (sau pooling)\n",
        "        self.conv3 = nn.Conv2d(32, 64, kernel_size=3, stride=1, padding=0)\n",
        "        # Tầng pooling: vùng 2x2, giảm kích thước một nửa\n",
        "        self.pool = nn.MaxPool2d(kernel_size=2, stride=2)  # Ví dụ: 26x26 -> 13x13, 10x10 -> 5x5\n",
        "        # Tầng fully connected: từ 32 kênh * 5x5 (800) -> 10 lớp (0-9)\n",
        "        self.fc1 = nn.Linear(64 * 1 * 1, 10)  # Duỗi feature map thành vector rồi phân loại\n",
        "\n",
        "    def forward(self, x):  # Hàm forward định nghĩa luồng dữ liệu qua các tầng\n",
        "        x = self.pool(torch.relu(self.conv1(x)))  # Conv1 -> ReLU (loại giá trị âm) -> Pool (giảm kích thước)\n",
        "        x = self.pool(torch.relu(self.conv2(x)))\n",
        "        x = self.pool(torch.relu(self.conv3(x))) # Conv2 -> ReLU -> Pool, cuối cùng ra 32x5x5\n",
        "        x = x.view(-1, 64 * 1 * 1)  # Duỗi tensor thành vector, -1 tự động tính batch size\n",
        "        x = self.fc1(x)  # Qua tầng fully connected, ra 10 giá trị (logits cho 0-9)\n",
        "        return x  # Trả về kết quả dự đoán"
      ]
    },
    {
      "cell_type": "markdown",
      "metadata": {
        "id": "--H5PmGKGRV_"
      },
      "source": [
        "## Khởi tạo mô hình\n"
      ]
    },
    {
      "cell_type": "code",
      "execution_count": 19,
      "metadata": {
        "id": "dp8hvAz4GRV_"
      },
      "outputs": [],
      "source": [
        "# Khởi tạo mô hình\n",
        "model = MNIST_CNN()  # Tạo một instance của lớp MNIST_CNN\n",
        "criterion = nn.CrossEntropyLoss()  # Định nghĩa hàm mất mát CrossEntropy (dùng cho phân loại nhiều lớp)\n",
        "optimizer = optim.SGD(model.parameters(), lr=0.1, momentum=0.9)  # Dùng SGD với learning rate 0.01 và momentum 0.9 để tối ưu"
      ]
    },
    {
      "cell_type": "markdown",
      "metadata": {
        "id": "ib6gdsoEGRV_"
      },
      "source": [
        "## Huấn luyện mô hình"
      ]
    },
    {
      "cell_type": "code",
      "execution_count": 20,
      "metadata": {
        "colab": {
          "base_uri": "https://localhost:8080/"
        },
        "id": "zZzSBeZKGRV_",
        "outputId": "d0642331-9b70-4658-c5ae-f815006477c7"
      },
      "outputs": [
        {
          "output_type": "stream",
          "name": "stdout",
          "text": [
            "Epoch 1, Loss: 0.2839\n",
            "Epoch 2, Loss: 0.1193\n",
            "Epoch 3, Loss: 0.0939\n",
            "Epoch 4, Loss: 0.0859\n",
            "Epoch 5, Loss: 0.0772\n"
          ]
        }
      ],
      "source": [
        "# 3. Huấn luyện mô hình\n",
        "device = torch.device(\"cuda\" if torch.cuda.is_available() else \"cpu\")  # Chọn GPU nếu có, không thì dùng CPU\n",
        "model.to(device)  # Chuyển mô hình sang thiết bị đã chọn (GPU/CPU)\n",
        "\n",
        "loss_values = []  # Tạo list để lưu giá trị mất mát trung bình của mỗi epoch\n",
        "for epoch in range(5): # Lặp qua 5 epoch (mỗi epoch là một lần duyệt hết dữ liệu)\n",
        "    running_loss = 0.0  # Biến để cộng dồn mất mát trong epoch\n",
        "    for images, labels in train_loader:  # Lặp qua từng batch trong tập huấn luyện\n",
        "        images, labels = images.to(device), labels.to(device)  # Chuyển ảnh và nhãn sang GPU/CPU\n",
        "\n",
        "        optimizer.zero_grad()  # Xóa gradient cũ để tránh tích lũy từ bước trước\n",
        "        outputs = model(images)  # Đưa ảnh qua mô hình, nhận dự đoán (logits)\n",
        "        loss = criterion(outputs, labels)  # Tính mất mát giữa dự đoán và nhãn thật\n",
        "        loss.backward()  # Tính gradient ngược (backpropagation)\n",
        "        optimizer.step()  # Cập nhật trọng số dựa trên gradient\n",
        "\n",
        "        running_loss += loss.item()  # Cộng dồn giá trị mất mát của batch\n",
        "    epoch_loss = running_loss / len(train_loader)  # Tính mất mát trung bình của epoch\n",
        "    loss_values.append(epoch_loss)  # Lưu mất mát trung bình vào list\n",
        "    print(f\"Epoch {epoch+1}, Loss: {epoch_loss:.4f}\")  # In mất mát trung bình sau mỗi epoch\n"
      ]
    },
    {
      "cell_type": "code",
      "execution_count": 25,
      "metadata": {
        "colab": {
          "base_uri": "https://localhost:8080/",
          "height": 489
        },
        "id": "6_ryH6dvGRWA",
        "outputId": "ba4b3aee-6715-49ed-9228-1738baafa61a"
      },
      "outputs": [
        {
          "output_type": "display_data",
          "data": {
            "text/plain": [
              "<Figure size 800x500 with 1 Axes>"
            ],
            "image/png": "[encoded data removed]"
          },
          "metadata": {}
        }
      ],
      "source": [
        "# Vẽ biểu đồ loss\n",
        "plt.figure(figsize=(8, 5))  # Tạo khung hình kích thước 8x5\n",
        "plt.plot(range(1, 6), loss_values, marker='o')  # Vẽ đường mất mát qua 5 epoch, thêm điểm đánh dấu\n",
        "plt.title(\"Biểu đồ mất mát qua các epoch\")  # Tiêu đề biểu đồ\n",
        "plt.xlabel(\"Epoch\")  # Nhãn trục x\n",
        "plt.ylabel(\"Loss\")  # Nhãn trục y\n",
        "plt.grid(True)  # Thêm lưới để dễ nhìn\n",
        "plt.show()  # Hiển thị biểu đồ"
      ]
    },
    {
      "cell_type": "markdown",
      "metadata": {
        "id": "Jrc0fMZPGRWA"
      },
      "source": [
        "## Đánh giá mô hình"
      ]
    },
    {
      "cell_type": "code",
      "execution_count": 26,
      "metadata": {
        "colab": {
          "base_uri": "https://localhost:8080/"
        },
        "id": "QT11lnoRGRWA",
        "outputId": "93338fef-841a-4722-fa59-aa16e653d2df"
      },
      "outputs": [
        {
          "output_type": "stream",
          "name": "stdout",
          "text": [
            "Độ chính xác trên tập test: 98.31%\n"
          ]
        }
      ],
      "source": [
        "correct = 0  # Đếm số dự đoán đúng\n",
        "total = 0  # Đếm tổng số mẫu\n",
        "with torch.no_grad():  # Tắt tính gradient vì chỉ đánh giá, không huấn luyện\n",
        "    for images, labels in test_loader:  # Lặp qua từng batch trong tập kiểm tra\n",
        "        images, labels = images.to(device), labels.to(device)  # Chuyển dữ liệu sang GPU/CPU\n",
        "        outputs = model(images)  # Dự đoán trên batch ảnh\n",
        "        _, predicted = torch.max(outputs.data, 1)  # Lấy chỉ số lớp có giá trị lớn nhất (dự đoán)\n",
        "        total += labels.size(0)  # Cộng số mẫu trong batch vào tổng\n",
        "        correct += (predicted == labels).sum().item()  # Cộng số dự đoán đúng\n",
        "print(f\"Độ chính xác trên tập test: {100 * correct / total:.2f}%\")  # Tính và in độ chính xác (%)"
      ]
    },
    {
      "cell_type": "code",
      "execution_count": 27,
      "metadata": {
        "colab": {
          "base_uri": "https://localhost:8080/",
          "height": 280
        },
        "id": "mvV4_wu4GRWA",
        "outputId": "7e6d3b4c-cac8-49af-b1ba-918f4c7f7f1a"
      },
      "outputs": [
        {
          "output_type": "display_data",
          "data": {
            "text/plain": [
              "<Figure size 1500x300 with 5 Axes>"
            ],
            "image/png": "[encoded data removed]"
          },
          "metadata": {}
        }
      ],
      "source": [
        "# Trực quan kết quả dự đoán\n",
        "def visualize_prediction():  # Hàm để vẽ 5 ảnh và dự đoán\n",
        "    model.eval()  # Chuyển mô hình sang chế độ đánh giá (tắt dropout, batch norm nếu có)\n",
        "    images, labels = next(iter(test_loader))  # Lấy một batch từ tập kiểm tra\n",
        "    images, labels = images.to(device), labels.to(device)  # Chuyển sang GPU/CPU\n",
        "    outputs = model(images)  # Dự đoán trên batch\n",
        "    _, predicted = torch.max(outputs, 1)  # Lấy chỉ số lớp dự đoán\n",
        "\n",
        "    # Vẽ 5 ảnh đầu tiên\n",
        "    fig, axes = plt.subplots(1, 5, figsize=(15, 3))  # Tạo lưới 1x5 để vẽ 5 ảnh\n",
        "    for i in range(5):  # Lặp qua 5 ảnh đầu\n",
        "        axes[i].imshow(images[i].cpu().squeeze(), cmap='gray')  # Vẽ ảnh (chuyển về CPU, bỏ kênh 1)\n",
        "        axes[i].set_title(f\"Dự đoán: {predicted[i].item()}\\nThật: {labels[i].item()}\")  # Ghi nhãn dự đoán và thật\n",
        "        axes[i].axis('off')  # Tắt trục tọa độ\n",
        "    plt.show()  # Hiển thị hình\n",
        "\n",
        "visualize_prediction()  # Gọi hàm để vẽ"
      ]
    },
    {
      "cell_type": "code",
      "execution_count": 32,
      "metadata": {
        "colab": {
          "base_uri": "https://localhost:8080/",
          "height": 336
        },
        "id": "QP7-631RGRWA",
        "outputId": "17511648-a0e8-40ec-8c5b-eb7c4ad424f0"
      },
      "outputs": [
        {
          "output_type": "display_data",
          "data": {
            "text/plain": [
              "<Figure size 1200x400 with 3 Axes>"
            ],
            "image/png": "[encoded data removed]"
          },
          "metadata": {}
        }
      ],
      "source": [
        "#Trực quan feature map\n",
        "def visualize_feature_map():  # Hàm để vẽ ảnh gốc và feature map từ tầng conv1\n",
        "    model.eval()  # Chuyển sang chế độ đánh giá\n",
        "    images, _ = next(iter(test_loader))  # Lấy một batch từ tập kiểm tra (bỏ nhãn)\n",
        "    img = images[0].unsqueeze(0).to(device)  # Lấy ảnh đầu tiên, thêm chiều batch (1x1x28x28)\n",
        "\n",
        "    # Tính feature map từ conv1\n",
        "    conv1_output = torch.relu(model.conv1(img))  # Qua conv1 và ReLU, ra tensor 1x16x26x26\n",
        "\n",
        "    # Vẽ ảnh gốc và feature map\n",
        "    plt.figure(figsize=(12, 4))\n",
        "    plt.subplot(1, 3, 1)\n",
        "    plt.title(\"Ảnh gốc\")\n",
        "    plt.imshow(img.cpu().squeeze(), cmap='gray')\n",
        "    plt.axis('off')\n",
        "\n",
        "    # Vẽ feature map đầu tiên\n",
        "    plt.subplot(1, 3, 2)\n",
        "    plt.title(\"Feature Map 1\")\n",
        "    plt.imshow(conv1_output[0, 0].cpu().detach().numpy(), cmap='gray')\n",
        "    plt.axis('off')\n",
        "\n",
        "    # Vẽ feature map thứ hai\n",
        "    plt.subplot(1, 3, 3)\n",
        "    plt.title(\"Feature Map 2\")\n",
        "    plt.imshow(conv1_output[0, 1].cpu().detach().numpy(), cmap='gray')\n",
        "    plt.axis('off')\n",
        "    plt.show()\n",
        "\n",
        "visualize_feature_map()"
      ]
    },
    {
      "cell_type": "code",
      "source": [
        "def visualize_feature_map():\n",
        "    model.eval()\n",
        "    images, _ = next(iter(test_loader))\n",
        "    img = images[0].unsqueeze(0).to(device)\n",
        "\n",
        "    conv1_output = torch.relu(model.conv1(img))\n",
        "    conv2_output = torch.relu(model.conv2(model.pool(torch.relu(model.conv1(img)))))\n",
        "    plt.figure(figsize=(20, 4))\n",
        "    plt.subplot(1, 5, 1)\n",
        "    plt.title(\"Ảnh gốc\")\n",
        "    plt.imshow(img.cpu().squeeze(), cmap='gray')\n",
        "    plt.axis('off')\n",
        "\n",
        "    plt.subplot(1, 5, 2)\n",
        "    plt.title(\"Feature Map 1 - Conv1\")\n",
        "    plt.imshow(conv1_output[0, 0].cpu().detach().numpy(), cmap='gray')\n",
        "    plt.axis('off')\n",
        "\n",
        "    plt.subplot(1, 5, 3)\n",
        "    plt.title(\"Feature Map 2 - Conv1\")\n",
        "    plt.imshow(conv1_output[0, 1].cpu().detach().numpy(), cmap='gray')\n",
        "    plt.axis('off')\n",
        "\n",
        "    plt.subplot(1, 5, 4)\n",
        "    plt.title(\"Feature Map 1 - Conv2\")\n",
        "    plt.imshow(conv2_output[0, 0].cpu().detach().numpy(), cmap='gray')\n",
        "    plt.axis('off')\n",
        "\n",
        "    plt.subplot(1, 5, 5)\n",
        "    plt.title(\"Feature Map 2 - Conv2\")\n",
        "    plt.imshow(conv2_output[0, 1].cpu().detach().numpy(), cmap='gray')\n",
        "    plt.axis('off')\n",
        "    plt.show()\n",
        "\n",
        "visualize_feature_map()"
      ],
      "metadata": {
        "colab": {
          "base_uri": "https://localhost:8080/",
          "height": 330
        },
        "id": "-vzagIaSBOFl",
        "outputId": "c1d39bee-5bc6-4651-c3fb-08f2cfb079e9"
      },
      "execution_count": 34,
      "outputs": [
        {
          "output_type": "display_data",
          "data": {
            "text/plain": [
              "<Figure size 2000x400 with 5 Axes>"
            ],
            "image/png": "[encoded data removed]"
          },
          "metadata": {}
        }
      ]
    },
    {
      "cell_type": "markdown",
      "metadata": {
        "id": "P-3vYRxYGRWB"
      },
      "source": [
        "# BÀI TẬP VỀ NHÀ"
      ]
    },
    {
      "cell_type": "markdown",
      "source": [
        "Câu 1"
      ],
      "metadata": {
        "id": "HoZtfpQzHkzZ"
      }
    },
    {
      "cell_type": "code",
      "source": [
        "correct = 0  # Đếm số dự đoán đúng\n",
        "total = 0  # Đếm tổng số mẫu\n",
        "with torch.no_grad():  # Tắt tính gradient vì chỉ đánh giá, không huấn luyện\n",
        "    for images, labels in test_loader:  # Lặp qua từng batch trong tập kiểm tra\n",
        "        images, labels = images.to(device), labels.to(device)  # Chuyển dữ liệu sang GPU/CPU\n",
        "        outputs = model(images)  # Dự đoán trên batch ảnh\n",
        "        _, predicted = torch.max(outputs.data, 1)  # Lấy chỉ số lớp có giá trị lớn nhất (dự đoán)\n",
        "        total += labels.size(0)  # Cộng số mẫu trong batch vào tổng\n",
        "        correct += (predicted == labels).sum().item()  # Cộng số dự đoán đúng\n",
        "print(f\"Độ chính xác trên tập test: {100 * correct / total:.2f}%\")  # Tính và in độ chính xác (%)"
      ],
      "metadata": {
        "colab": {
          "base_uri": "https://localhost:8080/"
        },
        "id": "A6-q3HIZIP7B",
        "outputId": "34fea0a6-06a2-4eaf-fa81-cc0ca9041299"
      },
      "execution_count": null,
      "outputs": [
        {
          "output_type": "stream",
          "name": "stdout",
          "text": [
            "Độ chính xác trên tập test: 98.86%\n"
          ]
        }
      ]
    },
    {
      "cell_type": "markdown",
      "source": [
        "### CÂU 1\n",
        "ĐỘ CHÍNH XÁC TĂNG 98.77% lên 98.86%\n",
        "biểu đồ có tăng vọt tại epoch thứ 7\n",
        "Số epoch giúp tăng độ chính xác của mô hình vì giúp mô hình học nhiều lần hơn nhưng cũng có thể gây overfiting ngược lại quá ít epoch sẽ gây underfiting"
      ],
      "metadata": {
        "id": "FM6fwPDYJRex"
      }
    },
    {
      "cell_type": "markdown",
      "source": [
        "# Câu 2\n"
      ],
      "metadata": {
        "id": "BnwtGPksnhnp"
      }
    },
    {
      "cell_type": "markdown",
      "source": [
        "Độ chính xác giảm 98.77% xuống 98.16%\n",
        "Tăng tầng tích chập có thể tìm thấy các đặc trưng phức tạp hơn, có thể gây overfitting nếu có quá ít data trong việc train."
      ],
      "metadata": {
        "id": "g6J1Iayei8Hh"
      }
    },
    {
      "cell_type": "markdown",
      "source": [
        "# Câu 3\n",
        "khi sửa lr=0.001 thì độ chính xác giảm còn 95.12%\n",
        "lr= 0.1 độ chính xác 98.31%\n",
        "việc để learning rate lớn có thể giúp việc học nhanh hơn nhưng khó đạt được cực tiểu hơn còn để quá nhỏ có thể giúp mô hình ổn định nhưng thời gian học lâu hơn"
      ],
      "metadata": {
        "id": "JoC_TJft7Eg6"
      }
    },
    {
      "cell_type": "markdown",
      "source": [
        "#  Câu 4\n",
        "Feature map từ Conv1 giữ lại nhiều chi tiết hơn, có thể nhận diện cạnh và cấu trúc cơ bản.\n",
        "Feature map từ Conv2 trở nên trừu tượng hơn, trích xuất thông tin cấp cao hơn bằng cách kết hợp thông tin từ Conv1."
      ],
      "metadata": {
        "id": "T-sNyJI5EEoM"
      }
    },
    {
      "cell_type": "markdown",
      "metadata": {
        "id": "Hu12ECiuGRWB"
      },
      "source": [
        "\n",
        "## Yêu cầu\n",
        "Dựa trên đoạn code CNN đã cung cấp (phân loại MNIST), hãy thực hiện các nhiệm vụ sau. Gửi lại code hoàn chỉnh kèm giải thích ngắn gọn cho từng câu hỏi trong file Jupyter Notebook.\n",
        "\n",
        "### Câu 1: Thay đổi số lượng epoch\n",
        "- **Yêu cầu**: Tăng số lượng epoch từ 5 lên 10 trong phần huấn luyện mô hình.\n",
        "- **Hướng dẫn**: Tìm dòng `for epoch in range(5):` và sửa thành `for epoch in range(10):`. Chạy lại code và ghi nhận:\n",
        "  - Độ chính xác trên tập test có thay đổi không? Nếu có, tăng hay giảm?\n",
        "  - Biểu đồ mất mát (loss) thay đổi thế nào qua 10 epoch? Có xu hướng nào đáng chú ý không (ví dụ: giảm đều, chững lại)?\n",
        "-  Viết ngắn gọn (2-3 câu) về lý do tại sao số epoch ảnh hưởng đến kết quả.\n",
        "\n",
        "### Câu 2: Thêm một tầng tích chập\n",
        "- **Yêu cầu**: Thêm một tầng tích chập thứ ba (`conv3`) vào mô hình `MNIST_CNN`.\n",
        "- **Hướng dẫn**:\n",
        "  - Trong hàm `__init__`, thêm `self.conv3 = nn.Conv2d(32, 64, kernel_size=3, stride=1, padding=0)` (32 kênh đầu vào từ `conv2`, 64 kênh đầu ra).\n",
        "  - Trong hàm `forward`, thêm `x = self.pool(torch.relu(self.conv3(x)))` sau dòng `x = self.pool(torch.relu(self.conv2(x)))`.\n",
        "  - Kích thước sau `conv3` và pooling sẽ là 64x1x1 (vì 5x5 -> 3x3 -> 1x1 sau hai lần pooling và tích chập). Sửa tầng `fc1` thành `self.fc1 = nn.Linear(64 * 1 * 1, 10)` và dòng `x.view(-1, 64 * 1 * 1)` tương ứng.\n",
        "  - Chạy lại code và ghi nhận độ chính xác mới trên tập test.\n",
        "- Viết ngắn gọn (2-3 câu) về tác dụng của việc thêm tầng tích chập (ví dụ: tìm đặc trưng phức tạp hơn, ảnh hưởng đến độ chính xác).\n",
        "\n",
        "### Câu 3: Thay đổi learning rate\n",
        "- **Yêu cầu**: Thử hai giá trị learning rate khác nhau: 0.001 và 0.1 (thay vì 0.01 ban đầu).\n",
        "- **Hướng dẫn**: Tìm dòng `optimizer = optim.SGD(model.parameters(), lr=0.01, momentum=0.9)` và thay `lr=0.001` rồi `lr=0.1`. Chạy lại code với từng giá trị và ghi nhận:\n",
        "  - Độ chính xác trên tập test với mỗi learning rate.\n",
        "  - Biểu đồ mất mát thay đổi ra sao? (Ví dụ: dao động mạnh, giảm chậm, hoặc không hội tụ).\n",
        "- Viết ngắn gọn (2-3 câu) về cách learning rate ảnh hưởng đến quá trình học của mô hình.\n",
        "\n",
        "### Câu 4: Vẽ thêm feature map từ tầng tích chập thứ hai\n",
        "- **Yêu cầu**: Sửa hàm `visualize_feature_map` để vẽ thêm hai feature map từ tầng `conv2`.\n",
        "- **Hướng dẫn**:\n",
        "  - Trong hàm `visualize_feature_map`, thêm dòng `conv2_output = torch.relu(self.conv2(self.pool(torch.relu(self.conv1(img)))))` để tính feature map từ `conv2`.\n",
        "  - Tăng khung hình từ 3 cột thành 5 cột: `plt.figure(figsize=(20, 4))` và sửa các subplot thành `plt.subplot(1, 5, ...)`.\n",
        "  - Thêm hai subplot để vẽ `conv2_output[0, 0]` và `conv2_output[0, 1]` (tương tự như `conv1_output`).\n",
        "  - Chạy lại và mô tả sự khác biệt giữa feature map từ `conv1` và `conv2` (ví dụ: chi tiết hơn, trừu tượng hơn).\n",
        "- Viết ngắn gọn (2-3 câu) về sự khác biệt giữa feature map từ các tầng khác nhau.\n",
        "\n",
        "## Nộp bài\n",
        "- Nộp file Jupyter Notebook (.ipynb) lên github.\n",
        "- Mỗi câu cần có:\n",
        "  - Code đã sửa đổi.\n",
        "  - Kết quả chạy (độ chính xác, biểu đồ loss, hình feature map nếu có).\n",
        "  - Giải thích ngắn gọn (2-3 câu).\n",
        "\n",
        "## Gợi ý\n",
        "- Đọc lại lý thuyết CNN (tích chập, ReLU, pooling, fully connected) để hiểu tác động của từng thay đổi.\n",
        "- Chạy code từng phần để kiểm tra lỗi (ví dụ: kiểm tra kích thước tensor sau khi thêm `conv3`).\n",
        "\n",
        "## Thời hạn nộp bài\n",
        "- Nộp bài trước buổi học tiếp theo.\n"
      ]
    },
    {
      "cell_type": "code",
      "source": [],
      "metadata": {
        "id": "i3abZ5pYGflz"
      },
      "execution_count": null,
      "outputs": []
    }
  ],
  "metadata": {
    "kernelspec": {
      "display_name": "Python 3",
      "language": "python",
      "name": "python3"
    },
    "language_info": {
      "codemirror_mode": {
        "name": "ipython",
        "version": 3
      },
      "file_extension": ".py",
      "mimetype": "text/x-python",
      "name": "python",
      "nbconvert_exporter": "python",
      "pygments_lexer": "ipython3",
      "version": "3.10.8"
    },
    "colab": {
      "provenance": []
    }
  },
  "nbformat": 4,
  "nbformat_minor": 0
}