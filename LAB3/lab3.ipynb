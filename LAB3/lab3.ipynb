{
  "cells": [
    {
      "cell_type": "markdown",
      "metadata": {},
      "source": [
        "### 1. Đọc file CSV\n"
      ]
    },
    {
      "cell_type": "code",
      "execution_count": 48,
      "metadata": {
        "colab": {
          "base_uri": "https://localhost:8080/"
        },
        "id": "ASL88Tntx0aP",
        "outputId": "50c1a44b-3f59-4cca-e7a9-eae2473aa773"
      },
      "outputs": [
        {
          "name": "stdout",
          "output_type": "stream",
          "text": [
            "      Id            Name   Age      Weight m0006 m0612 m1218 f0006 f0612 f1218\n",
            "0    2.0     Donald Duck  34.0   154.89lbs     -     -     -    85    84    76\n",
            "1    3.0      Mini Mouse  16.0         NaN     -     -     -    65    69    72\n",
            "2    4.0  Scrooge McDuck   NaN       78kgs    78    79    72     -     -     -\n",
            "3    5.0    Pink Panther  54.0  198.658lbs     -     -     -    69   NaN    75\n",
            "4    6.0     Huey McDuck  52.0      189lbs     -     -     -    68    75    72\n",
            "5    7.0    Dewey McDuck  19.0       56kgs     -     -     -    71    78    75\n",
            "6    8.0      Scööpy Doo  32.0       78kgs    78    76    75     -     -     -\n",
            "7    NaN             NaN   NaN         NaN   NaN   NaN   NaN   NaN   NaN   NaN\n",
            "8    NaN             NaN   NaN         NaN   NaN   NaN   NaN   NaN   NaN   NaN\n",
            "9    9.0     Huey McDuck  52.0      189lbs     -     -     -    68    75    72\n",
            "10  10.0    Louie McDuck  12.0       45kgs     -     -     -    92    95    87\n",
            "11  11.0       Henry Nam   NaN       60kgs    78    75    72     -     -     -\n",
            "12  12.0     Michel Long  34.0         NaN    65    67    55     -     -     -\n",
            "13  13.0      Tana Ricky   NaN         NaN     -     -     -    68    72    70\n",
            "14  15.0             NaN  52.0      180lbs     -     -     -    68    75    72\n"
          ]
        }
      ],
      "source": [
        "import pandas as pd\n",
        "import numpy as np\n",
        "\n",
        "column_names = [\"Id\", \"Name\", \"Age\", \"Weight\", \"m0006\", \"m0612\", \"m1218\", \"f0006\", \"f0612\", \"f1218\"]\n",
        "df = pd.read_csv(\"/content/patient_heart_rate.csv\", names=column_names, header=0, on_bad_lines='skip')\n",
        "df"
      ]
    },
    {
      "cell_type": "markdown",
      "metadata": {},
      "source": [
        "### 2. Tách \"Name\" thành \"Firstname\" và \"Lastname\"\n"
      ]
    },
    {
      "cell_type": "code",
      "execution_count": 49,
      "metadata": {
        "colab": {
          "base_uri": "https://localhost:8080/"
        },
        "id": "7vSBHc5Sx5cp",
        "outputId": "ba08427d-2eec-49e9-8a53-b6178da34b8d"
      },
      "outputs": [
        {
          "name": "stdout",
          "output_type": "stream",
          "text": [
            "      Id   Age      Weight m0006 m0612 m1218 f0006 f0612 f1218 Firstname  \\\n",
            "0    2.0  34.0   154.89lbs     -     -     -    85    84    76    Donald   \n",
            "1    3.0  16.0         NaN     -     -     -    65    69    72      Mini   \n",
            "2    4.0   NaN       78kgs    78    79    72     -     -     -   Scrooge   \n",
            "3    5.0  54.0  198.658lbs     -     -     -    69   NaN    75      Pink   \n",
            "4    6.0  52.0      189lbs     -     -     -    68    75    72      Huey   \n",
            "5    7.0  19.0       56kgs     -     -     -    71    78    75     Dewey   \n",
            "6    8.0  32.0       78kgs    78    76    75     -     -     -    Scööpy   \n",
            "7    NaN   NaN         NaN   NaN   NaN   NaN   NaN   NaN   NaN       NaN   \n",
            "8    NaN   NaN         NaN   NaN   NaN   NaN   NaN   NaN   NaN       NaN   \n",
            "9    9.0  52.0      189lbs     -     -     -    68    75    72      Huey   \n",
            "10  10.0  12.0       45kgs     -     -     -    92    95    87     Louie   \n",
            "11  11.0   NaN       60kgs    78    75    72     -     -     -     Henry   \n",
            "12  12.0  34.0         NaN    65    67    55     -     -     -    Michel   \n",
            "13  13.0   NaN         NaN     -     -     -    68    72    70      Tana   \n",
            "14  15.0  52.0      180lbs     -     -     -    68    75    72       NaN   \n",
            "\n",
            "   Lastname  \n",
            "0      Duck  \n",
            "1     Mouse  \n",
            "2    McDuck  \n",
            "3   Panther  \n",
            "4    McDuck  \n",
            "5    McDuck  \n",
            "6       Doo  \n",
            "7       NaN  \n",
            "8       NaN  \n",
            "9    McDuck  \n",
            "10   McDuck  \n",
            "11      Nam  \n",
            "12     Long  \n",
            "13    Ricky  \n",
            "14      NaN  \n"
          ]
        }
      ],
      "source": [
        "df[['Firstname', 'Lastname']] = df['Name'].str.split(expand=True)\n",
        "df.drop('Name', axis=1, inplace=True)\n",
        "df"
      ]
    },
    {
      "cell_type": "markdown",
      "metadata": {},
      "source": [
        "### 3. Chuẩn hóa cột \"Weight\"\n"
      ]
    },
    {
      "cell_type": "code",
      "execution_count": 50,
      "metadata": {
        "colab": {
          "base_uri": "https://localhost:8080/"
        },
        "id": "m6Iu06guyVDD",
        "outputId": "59941f17-10e2-45d4-edac-cb1c234636e2"
      },
      "outputs": [
        {
          "name": "stdout",
          "output_type": "stream",
          "text": [
            "      Id   Age      Weight m0006 m0612 m1218 f0006 f0612 f1218 Firstname  \\\n",
            "0    2.0  34.0   154.89lbs     -     -     -    85    84    76    Donald   \n",
            "1    3.0  16.0         NaN     -     -     -    65    69    72      Mini   \n",
            "2    4.0   NaN       78kgs    78    79    72     -     -     -   Scrooge   \n",
            "3    5.0  54.0  198.658lbs     -     -     -    69   NaN    75      Pink   \n",
            "4    6.0  52.0      189lbs     -     -     -    68    75    72      Huey   \n",
            "5    7.0  19.0       56kgs     -     -     -    71    78    75     Dewey   \n",
            "6    8.0  32.0       78kgs    78    76    75     -     -     -    Scööpy   \n",
            "7    NaN   NaN         NaN   NaN   NaN   NaN   NaN   NaN   NaN       NaN   \n",
            "8    NaN   NaN         NaN   NaN   NaN   NaN   NaN   NaN   NaN       NaN   \n",
            "9    9.0  52.0      189lbs     -     -     -    68    75    72      Huey   \n",
            "10  10.0  12.0       45kgs     -     -     -    92    95    87     Louie   \n",
            "11  11.0   NaN       60kgs    78    75    72     -     -     -     Henry   \n",
            "12  12.0  34.0         NaN    65    67    55     -     -     -    Michel   \n",
            "13  13.0   NaN         NaN     -     -     -    68    72    70      Tana   \n",
            "14  15.0  52.0      180lbs     -     -     -    68    75    72       NaN   \n",
            "\n",
            "   Lastname  \n",
            "0      Duck  \n",
            "1     Mouse  \n",
            "2    McDuck  \n",
            "3   Panther  \n",
            "4    McDuck  \n",
            "5    McDuck  \n",
            "6       Doo  \n",
            "7       NaN  \n",
            "8       NaN  \n",
            "9    McDuck  \n",
            "10   McDuck  \n",
            "11      Nam  \n",
            "12     Long  \n",
            "13    Ricky  \n",
            "14      NaN  \n"
          ]
        }
      ],
      "source": [
        "weight = df['Weight']\n",
        "\n",
        "for i in range(len(weight)):\n",
        "    x = str(weight[i])\n",
        "\n",
        "    if 'lbs' in x[:-3]:\n",
        "      x = x[:-3]\n",
        "\n",
        "      float_x = float(x)\n",
        "\n",
        "      y = int(float_x/2.2)\n",
        "\n",
        "      y = str(y) + \" kgs\"\n",
        "\n",
        "      weight[i] = y\n",
        "\n",
        "df"
      ]
    },
    {
      "cell_type": "markdown",
      "metadata": {},
      "source": [
        "# 4. Xóa các dòng dữ liệu rỗng hoàn toàn\n"
      ]
    },
    {
      "cell_type": "code",
      "execution_count": 51,
      "metadata": {
        "colab": {
          "base_uri": "https://localhost:8080/"
        },
        "id": "1j2QrdAUylpx",
        "outputId": "fcac0bff-417a-4e14-fc16-b412807cf335"
      },
      "outputs": [
        {
          "name": "stdout",
          "output_type": "stream",
          "text": [
            "      Id   Age      Weight m0006 m0612 m1218 f0006 f0612 f1218 Firstname  \\\n",
            "0    2.0  34.0   154.89lbs     -     -     -    85    84    76    Donald   \n",
            "1    3.0  16.0         NaN     -     -     -    65    69    72      Mini   \n",
            "2    4.0   NaN       78kgs    78    79    72     -     -     -   Scrooge   \n",
            "3    5.0  54.0  198.658lbs     -     -     -    69   NaN    75      Pink   \n",
            "4    6.0  52.0      189lbs     -     -     -    68    75    72      Huey   \n",
            "5    7.0  19.0       56kgs     -     -     -    71    78    75     Dewey   \n",
            "6    8.0  32.0       78kgs    78    76    75     -     -     -    Scööpy   \n",
            "9    9.0  52.0      189lbs     -     -     -    68    75    72      Huey   \n",
            "10  10.0  12.0       45kgs     -     -     -    92    95    87     Louie   \n",
            "11  11.0   NaN       60kgs    78    75    72     -     -     -     Henry   \n",
            "12  12.0  34.0         NaN    65    67    55     -     -     -    Michel   \n",
            "13  13.0   NaN         NaN     -     -     -    68    72    70      Tana   \n",
            "14  15.0  52.0      180lbs     -     -     -    68    75    72       NaN   \n",
            "\n",
            "   Lastname  \n",
            "0      Duck  \n",
            "1     Mouse  \n",
            "2    McDuck  \n",
            "3   Panther  \n",
            "4    McDuck  \n",
            "5    McDuck  \n",
            "6       Doo  \n",
            "9    McDuck  \n",
            "10   McDuck  \n",
            "11      Nam  \n",
            "12     Long  \n",
            "13    Ricky  \n",
            "14      NaN  \n"
          ]
        }
      ],
      "source": [
        "df.dropna(how='all', inplace=True)\n",
        "df"
      ]
    },
    {
      "cell_type": "markdown",
      "metadata": {},
      "source": [
        "# 5. Loại bỏ trùng lặp trong \"Firstname\", \"Lastname\", \"Age\", \"Weight\"\n"
      ]
    },
    {
      "cell_type": "code",
      "execution_count": 52,
      "metadata": {
        "colab": {
          "base_uri": "https://localhost:8080/"
        },
        "id": "1myr2FJcysPW",
        "outputId": "92dc5617-6a89-4f53-c069-ad15ca254ed8"
      },
      "outputs": [
        {
          "name": "stdout",
          "output_type": "stream",
          "text": [
            "      Id   Age      Weight m0006 m0612 m1218 f0006 f0612 f1218 Firstname  \\\n",
            "0    2.0  34.0   154.89lbs     -     -     -    85    84    76    Donald   \n",
            "1    3.0  16.0         NaN     -     -     -    65    69    72      Mini   \n",
            "2    4.0   NaN       78kgs    78    79    72     -     -     -   Scrooge   \n",
            "3    5.0  54.0  198.658lbs     -     -     -    69   NaN    75      Pink   \n",
            "4    6.0  52.0      189lbs     -     -     -    68    75    72      Huey   \n",
            "5    7.0  19.0       56kgs     -     -     -    71    78    75     Dewey   \n",
            "6    8.0  32.0       78kgs    78    76    75     -     -     -    Scööpy   \n",
            "9    9.0  52.0      189lbs     -     -     -    68    75    72      Huey   \n",
            "10  10.0  12.0       45kgs     -     -     -    92    95    87     Louie   \n",
            "11  11.0   NaN       60kgs    78    75    72     -     -     -     Henry   \n",
            "12  12.0  34.0         NaN    65    67    55     -     -     -    Michel   \n",
            "13  13.0   NaN         NaN     -     -     -    68    72    70      Tana   \n",
            "14  15.0  52.0      180lbs     -     -     -    68    75    72       NaN   \n",
            "\n",
            "   Lastname  \n",
            "0      Duck  \n",
            "1     Mouse  \n",
            "2    McDuck  \n",
            "3   Panther  \n",
            "4    McDuck  \n",
            "5    McDuck  \n",
            "6       Doo  \n",
            "9    McDuck  \n",
            "10   McDuck  \n",
            "11      Nam  \n",
            "12     Long  \n",
            "13    Ricky  \n",
            "14      NaN  \n"
          ]
        }
      ],
      "source": [
        "df.drop_duplicates(subset=['Firstname', 'Lastname', 'Age', 'Weight'])\n",
        "df"
      ]
    },
    {
      "cell_type": "markdown",
      "metadata": {},
      "source": [
        "### 6. Xử lý lỗi ký tự không phải ASCII\n"
      ]
    },
    {
      "cell_type": "code",
      "execution_count": 53,
      "metadata": {
        "id": "1rVDqRq5y1n_"
      },
      "outputs": [],
      "source": [
        "df['Firstname'] = df['Firstname'].str.replace(r'[^\\x00-\\x7F]+', '', regex=True)\n",
        "df['Lastname'] = df['Lastname'].str.replace(r'[^\\x00-\\x7F]+', '', regex=True)"
      ]
    },
    {
      "cell_type": "code",
      "execution_count": 54,
      "metadata": {
        "colab": {
          "base_uri": "https://localhost:8080/"
        },
        "id": "b9aJrgPK1mo-",
        "outputId": "8634f436-1768-470d-bfe8-5bf9a8cb1eae"
      },
      "outputs": [
        {
          "name": "stdout",
          "output_type": "stream",
          "text": [
            "      Id   Age  Weight m0006 m0612 m1218 f0006 f0612 f1218 Firstname Lastname\n",
            "0    2.0  34.0   154.0     -     -     -    85    84    76    Donald     Duck\n",
            "1    3.0  16.0   122.7     -     -     -    65    69    72      Mini    Mouse\n",
            "2    4.0  35.7    78.0    78    79    72     -     -     -   Scrooge   McDuck\n",
            "3    5.0  54.0   198.0     -     -     -    69   NaN    75      Pink  Panther\n",
            "4    6.0  52.0   189.0     -     -     -    68    75    72      Huey   McDuck\n",
            "5    7.0  19.0    56.0     -     -     -    71    78    75     Dewey   McDuck\n",
            "6    8.0  32.0    78.0    78    76    75     -     -     -      Scpy      Doo\n",
            "9    9.0  52.0   189.0     -     -     -    68    75    72      Huey   McDuck\n",
            "10  10.0  12.0    45.0     -     -     -    92    95    87     Louie   McDuck\n",
            "11  11.0  35.7    60.0    78    75    72     -     -     -     Henry      Nam\n",
            "12  12.0  34.0   122.7    65    67    55     -     -     -    Michel     Long\n",
            "13  13.0  35.7   122.7     -     -     -    68    72    70      Tana    Ricky\n",
            "14  15.0  52.0   180.0     -     -     -    68    75    72       NaN      NaN\n"
          ]
        },
        {
          "name": "stderr",
          "output_type": "stream",
          "text": [
            "<ipython-input-54-17e7236b45a0>:2: FutureWarning: A value is trying to be set on a copy of a DataFrame or Series through chained assignment using an inplace method.\n",
            "The behavior will change in pandas 3.0. This inplace method will never work because the intermediate object on which we are setting values always behaves as a copy.\n",
            "\n",
            "For example, when doing 'df[col].method(value, inplace=True)', try using 'df.method({col: value}, inplace=True)' or df[col] = df[col].method(value) instead, to perform the operation inplace on the original object.\n",
            "\n",
            "\n",
            "  df['Age'].fillna(df['Age'].mean(), inplace=True)\n",
            "<ipython-input-54-17e7236b45a0>:3: FutureWarning: A value is trying to be set on a copy of a DataFrame or Series through chained assignment using an inplace method.\n",
            "The behavior will change in pandas 3.0. This inplace method will never work because the intermediate object on which we are setting values always behaves as a copy.\n",
            "\n",
            "For example, when doing 'df[col].method(value, inplace=True)', try using 'df.method({col: value}, inplace=True)' or df[col] = df[col].method(value) instead, to perform the operation inplace on the original object.\n",
            "\n",
            "\n",
            "  df['Weight'].fillna(df['Weight'].mean(), inplace=True)\n"
          ]
        }
      ],
      "source": [
        "df['Weight'] = pd.to_numeric(df['Weight'].str.extract('(\\d+)').iloc[:, 0], errors='coerce')\n",
        "df['Age'].fillna(df['Age'].mean(), inplace=True)\n",
        "df['Weight'].fillna(df['Weight'].mean(), inplace=True)\n",
        "df"
      ]
    },
    {
      "cell_type": "markdown",
      "metadata": {},
      "source": [
        "### 8 Kết quả huyết áp\n"
      ]
    },
    {
      "cell_type": "code",
      "execution_count": 55,
      "metadata": {
        "colab": {
          "base_uri": "https://localhost:8080/"
        },
        "id": "5ZqdLtOs1mhU",
        "outputId": "c95c41b9-3e67-4929-9909-276688e3c19d"
      },
      "outputs": [
        {
          "name": "stdout",
          "output_type": "stream",
          "text": [
            "      Id   Age  Weight Firstname Lastname PulseRate Sex  Time\n",
            "0    2.0  34.0   154.0    Donald     Duck         -   m  0-00\n",
            "13   2.0  34.0   154.0    Donald     Duck         -   m  0-61\n",
            "26   2.0  34.0   154.0    Donald     Duck         -   m  1-21\n",
            "39   2.0  34.0   154.0    Donald     Duck        85   f  0-00\n",
            "52   2.0  34.0   154.0    Donald     Duck        84   f  0-61\n",
            "..   ...   ...     ...       ...      ...       ...  ..   ...\n",
            "24  13.0  35.7   122.7      Tana    Ricky         -   m  0-61\n",
            "37  13.0  35.7   122.7      Tana    Ricky         -   m  1-21\n",
            "50  13.0  35.7   122.7      Tana    Ricky        68   f  0-00\n",
            "63  13.0  35.7   122.7      Tana    Ricky        72   f  0-61\n",
            "76  13.0  35.7   122.7      Tana    Ricky        70   f  1-21\n",
            "\n",
            "[71 rows x 8 columns]\n"
          ]
        }
      ],
      "source": [
        "df = pd.melt(df, id_vars=['Id', 'Age', 'Weight', 'Firstname', 'Lastname'],\n",
        "             value_name=\"PulseRate\", var_name=\"sex_and_time\").sort_values(\n",
        "             ['Id', 'Age', 'Weight', 'Firstname', 'Lastname'])\n",
        "\n",
        "tmp_df = df[\"sex_and_time\"].str.extract(r'(\\D)(\\d)(\\d{2})', expand=True)\n",
        "\n",
        "tmp_df.columns = [\"Sex\", \"hours_lower\", \"hours_upper\"]\n",
        "\n",
        "tmp_df[\"Time\"] = tmp_df[\"hours_lower\"] + \"-\" + tmp_df[\"hours_upper\"]\n",
        "\n",
        "df = pd.concat([df, tmp_df], axis=1)\n",
        "\n",
        "df = df.drop(['sex_and_time', 'hours_lower', 'hours_upper'], axis=1)\n",
        "df = df.dropna()\n",
        "\n",
        "df.to_csv('outputcleanup.csv', index=False)\n",
        "\n",
        "df"
      ]
    },
    {
      "cell_type": "code",
      "execution_count": 56,
      "metadata": {
        "colab": {
          "base_uri": "https://localhost:8080/"
        },
        "id": "96_MHyGm1maC",
        "outputId": "e8486295-3ed0-4372-9730-375cdd39767c"
      },
      "outputs": [
        {
          "name": "stdout",
          "output_type": "stream",
          "text": [
            "      Id   Age  Weight Firstname Lastname PulseRate Sex  Time\n",
            "0    2.0  34.0   154.0    Donald     Duck         -   m  0-00\n",
            "13   2.0  34.0   154.0    Donald     Duck         -   m  0-61\n",
            "26   2.0  34.0   154.0    Donald     Duck         -   m  1-21\n",
            "39   2.0  34.0   154.0    Donald     Duck        85   f  0-00\n",
            "52   2.0  34.0   154.0    Donald     Duck        84   f  0-61\n",
            "..   ...   ...     ...       ...      ...       ...  ..   ...\n",
            "24  13.0  35.7   122.7      Tana    Ricky         -   m  0-61\n",
            "37  13.0  35.7   122.7      Tana    Ricky         -   m  1-21\n",
            "50  13.0  35.7   122.7      Tana    Ricky        68   f  0-00\n",
            "63  13.0  35.7   122.7      Tana    Ricky        72   f  0-61\n",
            "76  13.0  35.7   122.7      Tana    Ricky        70   f  1-21\n",
            "\n",
            "[71 rows x 8 columns]\n"
          ]
        }
      ],
      "source": [
        "def fill_missing_values(row, target_column):\n",
        "    if pd.isna(row[target_column]):\n",
        "        existing_values = df.loc[df['Id'] == row['Id'], target_column].dropna()\n",
        "        if not existing_values.empty:\n",
        "            return existing_values.mean()\n",
        "    return row[target_column]\n",
        "\n",
        "df['PulseRate'] = df.apply(lambda x: fill_missing_values(x, 'PulseRate'), axis=1)\n",
        "\n",
        "df"
      ]
    },
    {
      "cell_type": "markdown",
      "metadata": {},
      "source": [
        "### 12  lưu file vào patient_heart_rate_clean.csv\n"
      ]
    },
    {
      "cell_type": "code",
      "execution_count": 57,
      "metadata": {
        "colab": {
          "base_uri": "https://localhost:8080/"
        },
        "id": "3p0iC2d41mDm",
        "outputId": "a7bb0df1-af28-46c7-f526-7ea3e3c38b94"
      },
      "outputs": [
        {
          "name": "stdout",
          "output_type": "stream",
          "text": [
            "Data cleaning completed and saved as patient_heart_rate_clean.csv\n"
          ]
        },
        {
          "name": "stderr",
          "output_type": "stream",
          "text": [
            "<ipython-input-57-7d008b94e8d3>:4: FutureWarning: A value is trying to be set on a copy of a DataFrame or Series through chained assignment using an inplace method.\n",
            "The behavior will change in pandas 3.0. This inplace method will never work because the intermediate object on which we are setting values always behaves as a copy.\n",
            "\n",
            "For example, when doing 'df[col].method(value, inplace=True)', try using 'df.method({col: value}, inplace=True)' or df[col] = df[col].method(value) instead, to perform the operation inplace on the original object.\n",
            "\n",
            "\n",
            "  df['Age'].fillna(df['Age'].mean(), inplace=True)\n",
            "<ipython-input-57-7d008b94e8d3>:5: FutureWarning: A value is trying to be set on a copy of a DataFrame or Series through chained assignment using an inplace method.\n",
            "The behavior will change in pandas 3.0. This inplace method will never work because the intermediate object on which we are setting values always behaves as a copy.\n",
            "\n",
            "For example, when doing 'df[col].method(value, inplace=True)', try using 'df.method({col: value}, inplace=True)' or df[col] = df[col].method(value) instead, to perform the operation inplace on the original object.\n",
            "\n",
            "\n",
            "  df['Weight'].fillna(df['Weight'].median(), inplace=True)\n"
          ]
        }
      ],
      "source": [
        "def clean_and_reindex(df):\n",
        "    df.dropna(subset=['Age', 'Weight'], inplace=True)\n",
        "    df['Age'].fillna(df['Age'].mean(), inplace=True)\n",
        "    df['Weight'].fillna(df['Weight'].median(), inplace=True)\n",
        "    df.reset_index(drop=True, inplace=True)\n",
        "    return df\n",
        "\n",
        "df = clean_and_reindex(df)\n",
        "\n",
        "df.to_csv(\"patient_heart_rate_clean.csv\", index=False)\n",
        "\n",
        "\n"
      ]
    }
  ],
  "metadata": {
    "colab": {
      "provenance": []
    },
    "kernelspec": {
      "display_name": "Python 3",
      "name": "python3"
    },
    "language_info": {
      "name": "python"
    }
  },
  "nbformat": 4,
  "nbformat_minor": 0
}
